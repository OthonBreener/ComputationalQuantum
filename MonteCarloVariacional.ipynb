{
 "cells": [
  {
   "cell_type": "markdown",
   "metadata": {},
   "source": [
    "# Método de Monte Carlo\n",
    "Método para encontrar o valor da integral de uma função, em um determinado intervalo $x \\in [a,b]$, partindo do teorema do valor médio: $\\newline$\n",
    "\n",
    "f(x) $\\approx$ $\\frac{f(a) + f(b)}{2}$, com  $x \\in [a,b]$.  $\\newline$\n",
    "f(x) $\\approx$ $\\frac{\\sum_i^n f(x_i)}{n}$, $x \\in [x_{min}, x_{max}]$ $\\newline$\n",
    "\n",
    "* Assim, o valor da integral é dado por: $\\newline$\n",
    "\n",
    "$ \\int_a^b f(x) dx $ = $<f> (b - a)$ $\\newline$\n",
    "\n",
    "* O valor médio da função será calculado via números aleatórios, onde partimos do presuposto que para uma quantidade grande de números de testes o valor médio obtido convergirá para o valor médio da função. $\\newline$\n",
    "\n",
    "* Exemplo: calcule a integral da função f(x) = $sin^2(x) \\cdot cos^2(x)$ com [-10,10]."
   ]
  },
  {
   "cell_type": "code",
   "execution_count": 1,
   "metadata": {},
   "outputs": [],
   "source": [
    "import numpy as np\n",
    "import matplotlib.pyplot as plt\n",
    "import random\n",
    "from tqdm.auto import tqdm"
   ]
  },
  {
   "cell_type": "code",
   "execution_count": 2,
   "metadata": {},
   "outputs": [],
   "source": [
    "def func(x):\n",
    "    return ((np.sin(x))**2)*((np.cos(x))**2)"
   ]
  },
  {
   "cell_type": "code",
   "execution_count": 3,
   "metadata": {},
   "outputs": [],
   "source": [
    "def MonteCarlo(func, a, b, n = 10**6):\n",
    "    '''\n",
    "    Cálcula a integral de uma função via método de monte carlo\n",
    "    INPUT:\n",
    "        func: função a ser integrada\n",
    "        a: ponto inicial\n",
    "        b: ponto final\n",
    "    \n",
    "    OUTPUT:\n",
    "        Valor da integral da função no intervalo imposto.\n",
    "    \n",
    "    '''\n",
    "    media = 0\n",
    "    for i in range(1,n):\n",
    "        media = media + func(random.uniform(a,b))\n",
    "    \n",
    "    integral = (b - a)*media*(1/n)\n",
    "    return integral"
   ]
  },
  {
   "cell_type": "code",
   "execution_count": 4,
   "metadata": {},
   "outputs": [
    {
     "data": {
      "text/plain": [
       "2.452262285115532"
      ]
     },
     "execution_count": 4,
     "metadata": {},
     "output_type": "execute_result"
    }
   ],
   "source": [
    "MonteCarlo(func, -10, 10)"
   ]
  },
  {
   "cell_type": "markdown",
   "metadata": {},
   "source": [
    "# Método de Monte Carlo Variacional"
   ]
  },
  {
   "cell_type": "markdown",
   "metadata": {},
   "source": [
    "* Diferenças finitas: segunda derivada\n",
    "f''(x) = $\\frac{f(x + h) + f(x - h) - 2f(x)}{h^2}$ = $\\frac{\\Psi_{i+1} + \\Psi_{i-1} - 2 \\Psi_i}{h^2}$ $\\newline$\n",
    "\n",
    "* Energia:\n",
    "\n",
    "E = $\\frac{< \\Psi + \\delta \\Psi \\mid - 1/2 (\\partial^2/\\partial x^2) + V(x) \\mid \\Psi + \\delta \\Psi>}{<\\Psi + \\delta \\Psi \\mid \\Psi + \\delta \\Psi >} $ = $\\frac{1}{<\\Psi + \\delta \\Psi \\mid \\Psi + \\delta \\Psi >} (<\\Psi + \\delta \\Psi \\mid - 1/2 (\\partial^2/\\partial x^2) \\mid \\Psi + \\delta \\Psi> + <\\Psi + \\delta \\Psi \\mid V(x) \\mid \\Psi + \\delta \\Psi>)$"
   ]
  },
  {
   "cell_type": "code",
   "execution_count": 2,
   "metadata": {},
   "outputs": [],
   "source": [
    "#norrmalização da função\n",
    "def normalization(psi):\n",
    "    return (1/(np.sqrt(np.vdot(psi, psi))))*psi"
   ]
  },
  {
   "cell_type": "code",
   "execution_count": 3,
   "metadata": {},
   "outputs": [],
   "source": [
    "def segundaDerivada(psi, x):\n",
    "    dx = (-0.5)/((x[-1] - x[0])/N)**2\n",
    "    #O termo f[:-2] pega todos os termos até n-3\n",
    "    #O termo f[1:-2] pega todos os termos de n = 1 até n-2\n",
    "    #O termo f[2:] pega todos os elementos de n = 2 até n-1\n",
    "    \n",
    "    first = 0 - 2*psi[0] + psi[1]\n",
    "    last = psi[-2] - 2*psi[-1] + 0\n",
    "    h = psi[:-2] - 2*psi[1:-1] + psi[2:]\n",
    "    \n",
    "    hamilton1 = np.append([first], h)\n",
    "    hamilton = np.append(hamilton1, [last])\n",
    "    \n",
    "    return np.array(hamilton)*dx\n",
    "    "
   ]
  },
  {
   "cell_type": "code",
   "execution_count": 19,
   "metadata": {},
   "outputs": [],
   "source": [
    "#energia\n",
    "def energia(psi, potencial, y, x, N):\n",
    "    dx = (-0.5)/((x[-1] - x[0])/N)**2\n",
    "    Hamilton = dx*(-2*np.eye(len(y)) + np.eye(len(y),k=1) + np.eye(len(y), k= -1))\n",
    "    return (np.vdot(psi, Hamilton@psi) + np.vdot(psi, potencial*psi))/(np.vdot(psi,psi))"
   ]
  },
  {
   "cell_type": "code",
   "execution_count": 20,
   "metadata": {},
   "outputs": [],
   "source": [
    "#amostragem por importância\n",
    "\n",
    "def importance(f):\n",
    "    p = np.abs(f**2)/np.max(f**2)\n",
    "    while True:\n",
    "        n = np.random.randint(0,len(f))\n",
    "        q = np.random.rand()\n",
    "        if q < p[n]:\n",
    "            return n"
   ]
  },
  {
   "cell_type": "code",
   "execution_count": 21,
   "metadata": {},
   "outputs": [],
   "source": [
    "def montecarlo(psi, potencial, x, y, N, contador = 10000, delta = 10**(-3)):\n",
    "    for i in range(contador):\n",
    "        PsiN = normalization(psi) #normalização da função de entrada\n",
    "        j = np.random.randint(0, N) #número inteiro aleatório entre 0 e 100\n",
    "        vPsiN = np.random.uniform(-delta,delta) #variação da função de onda\n",
    "        \n",
    "        E = energia(PsiN, potencial, y, x, N)#calculo da energia inicial\n",
    "        \n",
    "        PsiNovo = PsiN\n",
    "        PsiNovo[j] = PsiNovo[j] + vPsiN\n",
    "        \n",
    "        E2 = energia(PsiNovo, potencial, y, x, N)#calculo da nova energia\n",
    "        \n",
    "        if E2 < E:\n",
    "            psi[j] = psi[j] + vPsiN\n",
    "        \n",
    "    return psi/np.vdot(psi,psi)    "
   ]
  },
  {
   "cell_type": "code",
   "execution_count": 22,
   "metadata": {},
   "outputs": [],
   "source": [
    "def montecarloImportance(psi, potencial, x, y, N, importance, contador = 10000, delta = 10**(-3)):\n",
    "    for i in range(contador):\n",
    "        PsiN = normalization(psi) #normalização da função de entrada\n",
    "        vPsiN = np.random.uniform(-delta,delta) #variação da função de onda\n",
    "        \n",
    "        u = importance(psi) #sorteo por amostragem por importância\n",
    "        \n",
    "        \n",
    "        E = energia(psi, potencial, y, x, N)#calculo da energia inicial\n",
    "        \n",
    "        PsiNovo = PsiN\n",
    "        PsiNovo[u] = PsiNovo[u] + vPsiN\n",
    "        \n",
    "        E2 = energia(PsiNovo, potencial, y, x, N)#calculo da nova energia\n",
    "        \n",
    "        if E2 < E:\n",
    "            psi[u] = psi[u] + vPsiN\n",
    "        \n",
    "    return psi/np.vdot(psi,psi) "
   ]
  },
  {
   "cell_type": "code",
   "execution_count": 23,
   "metadata": {},
   "outputs": [],
   "source": [
    "L = 10\n",
    "Lp = 20\n",
    "N = 100\n",
    "x = np.linspace(-L/2,L/2,N)\n",
    "xp = np.linspace(-Lp/2, Lp/2, 100)\n",
    "y = np.ones(N)"
   ]
  },
  {
   "cell_type": "code",
   "execution_count": 24,
   "metadata": {},
   "outputs": [],
   "source": [
    "#poço parabólico\n",
    "potencial = [(1/2)*i**2 for i in x]\n",
    "\n",
    "#poço quadrado\n",
    "pQuadrado = [0 if -2 < xp[i] < 2 else 10 for i in range(len(xp))]\n",
    "\n",
    "#poço quadrado duplo\n",
    "pDouble = [0 if (-4.5 < xp[i] < -0.5 or 0.5 < xp[i] < 4.5) else 2 for i in range(len(xp))]"
   ]
  },
  {
   "cell_type": "markdown",
   "metadata": {},
   "source": [
    "## Poço parabólico"
   ]
  },
  {
   "cell_type": "code",
   "execution_count": 25,
   "metadata": {},
   "outputs": [
    {
     "data": {
      "application/vnd.jupyter.widget-view+json": {
       "model_id": "60a4bd5fcb7f4a2e98502e3ad9e7438a",
       "version_major": 2,
       "version_minor": 0
      },
      "text/plain": [
       "HBox(children=(HTML(value=''), FloatProgress(value=0.0), HTML(value='')))"
      ]
     },
     "metadata": {},
     "output_type": "display_data"
    },
    {
     "name": "stdout",
     "output_type": "stream",
     "text": [
      "\n"
     ]
    },
    {
     "data": {
      "application/vnd.jupyter.widget-view+json": {
       "model_id": "93aa9ab9e1f842b9a933d81f56b025c2",
       "version_major": 2,
       "version_minor": 0
      },
      "text/plain": [
       "HBox(children=(HTML(value=''), FloatProgress(value=0.0), HTML(value='')))"
      ]
     },
     "metadata": {},
     "output_type": "display_data"
    },
    {
     "name": "stdout",
     "output_type": "stream",
     "text": [
      "\n"
     ]
    }
   ],
   "source": [
    "#função teste\n",
    "psi0 = np.ones(len(x))\n",
    "\n",
    "E = []\n",
    "\n",
    "for i in tqdm(range(100)):\n",
    "    Psi0 = montecarlo(psi0, potencial, x, y, N)\n",
    "    ef = energia(Psi0, potencial, y, x, N)\n",
    "    E.append(ef)\n",
    "\n",
    "#função teste para amostragem por importância\n",
    "psi0ai = np.ones(len(x))\n",
    "\n",
    "Eimportance = []\n",
    "\n",
    "for i in tqdm(range(100)):\n",
    "    Psi0AI = montecarloImportance(psi0ai, potencial, x, y, N, importance)\n",
    "    ef = energia(Psi0AI, potencial, y, x, N)\n",
    "    Eimportance.append(ef)"
   ]
  },
  {
   "cell_type": "code",
   "execution_count": 26,
   "metadata": {},
   "outputs": [
    {
     "data": {
      "image/png": "[encoded data removed]",
      "text/plain": [
       "<Figure size 864x576 with 3 Axes>"
      ]
     },
     "metadata": {
      "needs_background": "light"
     },
     "output_type": "display_data"
    }
   ],
   "source": [
    "#plot da energia\n",
    "plt.figure(figsize = (12,8))\n",
    "\n",
    "plt.subplot(221)\n",
    "plt.plot(np.arange(len(E)),E, 'r', label = 'Energia total')\n",
    "plt.xlim(0,100)\n",
    "plt.ylim(0,5)\n",
    "plt.grid()\n",
    "\n",
    "#plot da energia por amostragem por importância\n",
    "plt.subplot(222)\n",
    "plt.plot(np.arange(len(Eimportance)), Eimportance, 'b', label = 'Energia por Amostragem')\n",
    "plt.xlim(0,100)\n",
    "plt.ylim(0,5)\n",
    "plt.grid()\n",
    "\n",
    "#plot das duas energias\n",
    "plt.subplot(223)\n",
    "plt.plot(np.arange(len(E)),E, 'r', label = 'Energia total')\n",
    "plt.plot(np.arange(len(Eimportance)), Eimportance, 'b', label = 'Energia por Amostragem')\n",
    "plt.xlim(0,100)\n",
    "plt.ylim(0,5)\n",
    "plt.xlabel('Número de passos')\n",
    "plt.ylabel('E')\n",
    "plt.grid()\n",
    "plt.tight_layout()\n",
    "plt.legend()\n",
    "\n",
    "plt.show()"
   ]
  },
  {
   "cell_type": "markdown",
   "metadata": {},
   "source": [
    "* Normalização de Gram-Schidt para a função de onda referente a energia do primeiro estado excitado:\n",
    "\n",
    "$\\psi_{1} = \\psi_{t} - \\frac{<\\psi_0|\\psi_{t}>}{<\\psi_0|\\psi_0>} \\psi_0$"
   ]
  },
  {
   "cell_type": "code",
   "execution_count": null,
   "metadata": {},
   "outputs": [
    {
     "data": {
      "application/vnd.jupyter.widget-view+json": {
       "model_id": "48444fd1d1e14abc9308ec11b5b51441",
       "version_major": 2,
       "version_minor": 0
      },
      "text/plain": [
       "HBox(children=(HTML(value=''), FloatProgress(value=0.0, max=300.0), HTML(value='')))"
      ]
     },
     "metadata": {},
     "output_type": "display_data"
    }
   ],
   "source": [
    "# monte carlo variacional\n",
    "psi1 = normalization(x)\n",
    "\n",
    "for i in tqdm(range(300)):\n",
    "    Psi1 = psi1 - (np.vdot(psi0,psi1) / np.vdot(psi0,psi0))*psi0\n",
    "    Ps11 = montecarlo(Psi1, potencial, x, y, N)\n",
    "    psi1 = Psi1\n",
    "    \n",
    "# amostragem por importância\n",
    "psi1ip = normalization(x)\n",
    "\n",
    "for i in tqdm(range(300)):\n",
    "    Psi1IP = psi1ip - (np.vdot(psi0,psi1ip) / np.vdot(psi0,psi0))*psi0\n",
    "    Ps11IP = montecarloImportance(Psi1IP, potencial, x, y, N, importance)\n",
    "    psi1ip = Ps11IP"
   ]
  },
  {
   "cell_type": "code",
   "execution_count": 135,
   "metadata": {},
   "outputs": [
    {
     "data": {
      "text/plain": [
       "<Figure size 864x432 with 0 Axes>"
      ]
     },
     "metadata": {},
     "output_type": "display_data"
    },
    {
     "data": {
      "image/png": "[encoded data removed]",
      "text/plain": [
       "<Figure size 720x288 with 2 Axes>"
      ]
     },
     "metadata": {
      "needs_background": "light"
     },
     "output_type": "display_data"
    }
   ],
   "source": [
    "#plot das autofunções\n",
    "plt.figure(figsize = (12,6))\n",
    "\n",
    "plt.figure(figsize = (10,4))\n",
    "plt.subplot(121)\n",
    "plt.plot(x, normalization(Psi0))\n",
    "plt.plot(x, normalization(psi1))\n",
    "plt.grid()\n",
    "plt.title('Autofunções')\n",
    "\n",
    "\n",
    "plt.subplot(122)\n",
    "plt.plot(x, normalization(Psi0AI))\n",
    "plt.plot(x, normalization(psi1ip))\n",
    "plt.grid()\n",
    "plt.title('Autofunções por Amostragem')\n",
    "\n",
    "plt.show()"
   ]
  },
  {
   "cell_type": "markdown",
   "metadata": {},
   "source": [
    "## Poço quadrado "
   ]
  },
  {
   "cell_type": "code",
   "execution_count": 136,
   "metadata": {},
   "outputs": [
    {
     "data": {
      "application/vnd.jupyter.widget-view+json": {
       "model_id": "bd25854f251c48789d24489e41439269",
       "version_major": 2,
       "version_minor": 0
      },
      "text/plain": [
       "HBox(children=(HTML(value=''), FloatProgress(value=0.0), HTML(value='')))"
      ]
     },
     "metadata": {},
     "output_type": "display_data"
    },
    {
     "name": "stdout",
     "output_type": "stream",
     "text": [
      "\n"
     ]
    },
    {
     "data": {
      "application/vnd.jupyter.widget-view+json": {
       "model_id": "7e5b109a0181484f95fdda5e7fbe497c",
       "version_major": 2,
       "version_minor": 0
      },
      "text/plain": [
       "HBox(children=(HTML(value=''), FloatProgress(value=0.0), HTML(value='')))"
      ]
     },
     "metadata": {},
     "output_type": "display_data"
    },
    {
     "name": "stdout",
     "output_type": "stream",
     "text": [
      "\n"
     ]
    }
   ],
   "source": [
    "#função teste\n",
    "psi0pQ = np.ones(len(xp))\n",
    "\n",
    "EpQ = []\n",
    "\n",
    "for i in tqdm(range(100)):\n",
    "    Psi0pQ = montecarlo(psi0pQ, pQuadrado, xp, y, N)\n",
    "    ef = energia(Psi0pQ, pQuadrado, y, xp, N)\n",
    "    EpQ.append(ef)\n",
    "\n",
    "#função teste para amostragem por importância\n",
    "psi0aipQ = np.ones(len(xp))\n",
    "\n",
    "EimportancepQ = []\n",
    "\n",
    "for i in tqdm(range(100)):\n",
    "    Psi0AIpQ = montecarloImportance(psi0aipQ, pQuadrado, xp, y, N, importance)\n",
    "    ef = energia(Psi0AIpQ, pQuadrado, y, xp, N)\n",
    "    EimportancepQ.append(ef)"
   ]
  },
  {
   "cell_type": "code",
   "execution_count": 137,
   "metadata": {},
   "outputs": [
    {
     "data": {
      "image/png": "[encoded data removed]",
      "text/plain": [
       "<Figure size 864x576 with 3 Axes>"
      ]
     },
     "metadata": {
      "needs_background": "light"
     },
     "output_type": "display_data"
    }
   ],
   "source": [
    "#plot da energia\n",
    "plt.figure(figsize = (12,8))\n",
    "\n",
    "plt.subplot(221)\n",
    "plt.plot(np.arange(len(EpQ)),EpQ, 'r', label = 'Energia total')\n",
    "plt.xlim(0,100)\n",
    "plt.ylim(0,5)\n",
    "plt.grid()\n",
    "\n",
    "#plot da energia por amostragem por importância\n",
    "plt.subplot(222)\n",
    "plt.plot(np.arange(len(EimportancepQ)), EimportancepQ, 'b', label = 'Energia por Amostragem')\n",
    "plt.xlim(0,100)\n",
    "plt.ylim(0,5)\n",
    "plt.grid()\n",
    "\n",
    "#plot das duas energias\n",
    "plt.subplot(223)\n",
    "plt.plot(np.arange(len(EpQ)),EpQ, 'r', label = 'Energia total')\n",
    "plt.plot(np.arange(len(EimportancepQ)), EimportancepQ, 'b', label = 'Energia por Amostragem')\n",
    "plt.xlim(0,100)\n",
    "plt.ylim(0,5)\n",
    "plt.xlabel('Número de passos')\n",
    "plt.ylabel('E')\n",
    "plt.grid()\n",
    "plt.tight_layout()\n",
    "plt.legend()\n",
    "\n",
    "plt.show()"
   ]
  },
  {
   "cell_type": "code",
   "execution_count": 138,
   "metadata": {},
   "outputs": [
    {
     "data": {
      "application/vnd.jupyter.widget-view+json": {
       "model_id": "5b8b93ceef11415bbdafb93534277a65",
       "version_major": 2,
       "version_minor": 0
      },
      "text/plain": [
       "HBox(children=(HTML(value=''), FloatProgress(value=0.0, max=300.0), HTML(value='')))"
      ]
     },
     "metadata": {},
     "output_type": "display_data"
    },
    {
     "name": "stdout",
     "output_type": "stream",
     "text": [
      "\n"
     ]
    },
    {
     "data": {
      "application/vnd.jupyter.widget-view+json": {
       "model_id": "7d98aa63955447f48e7b5b8c828d0f6a",
       "version_major": 2,
       "version_minor": 0
      },
      "text/plain": [
       "HBox(children=(HTML(value=''), FloatProgress(value=0.0, max=300.0), HTML(value='')))"
      ]
     },
     "metadata": {},
     "output_type": "display_data"
    },
    {
     "name": "stdout",
     "output_type": "stream",
     "text": [
      "\n"
     ]
    },
    {
     "ename": "KeyboardInterrupt",
     "evalue": "",
     "output_type": "error",
     "traceback": [
      "\u001b[1;31m---------------------------------------------------------------------------\u001b[0m",
      "\u001b[1;31mKeyboardInterrupt\u001b[0m                         Traceback (most recent call last)",
      "\u001b[1;32m<ipython-input-138-452e0740c114>\u001b[0m in \u001b[0;36m<module>\u001b[1;34m\u001b[0m\n\u001b[0;32m     12\u001b[0m \u001b[1;32mfor\u001b[0m \u001b[0mi\u001b[0m \u001b[1;32min\u001b[0m \u001b[0mtqdm\u001b[0m\u001b[1;33m(\u001b[0m\u001b[0mrange\u001b[0m\u001b[1;33m(\u001b[0m\u001b[1;36m300\u001b[0m\u001b[1;33m)\u001b[0m\u001b[1;33m)\u001b[0m\u001b[1;33m:\u001b[0m\u001b[1;33m\u001b[0m\u001b[1;33m\u001b[0m\u001b[0m\n\u001b[0;32m     13\u001b[0m     \u001b[0mPsi1IPpQ\u001b[0m \u001b[1;33m=\u001b[0m \u001b[0mpsi1ipQ\u001b[0m \u001b[1;33m-\u001b[0m \u001b[1;33m(\u001b[0m\u001b[0mnp\u001b[0m\u001b[1;33m.\u001b[0m\u001b[0mvdot\u001b[0m\u001b[1;33m(\u001b[0m\u001b[0mPsi0AIpQ\u001b[0m\u001b[1;33m,\u001b[0m\u001b[0mpsi1ipQ\u001b[0m\u001b[1;33m)\u001b[0m \u001b[1;33m/\u001b[0m \u001b[0mnp\u001b[0m\u001b[1;33m.\u001b[0m\u001b[0mvdot\u001b[0m\u001b[1;33m(\u001b[0m\u001b[0mPsi0AIpQ\u001b[0m\u001b[1;33m,\u001b[0m\u001b[0mPsi0AIpQ\u001b[0m\u001b[1;33m)\u001b[0m\u001b[1;33m)\u001b[0m\u001b[1;33m*\u001b[0m\u001b[0mPsi0AIpQ\u001b[0m\u001b[1;33m\u001b[0m\u001b[1;33m\u001b[0m\u001b[0m\n\u001b[1;32m---> 14\u001b[1;33m     \u001b[0mPsi1IPpQ\u001b[0m \u001b[1;33m=\u001b[0m \u001b[0mmontecarloImportance\u001b[0m\u001b[1;33m(\u001b[0m\u001b[0mPsi1IPpQ\u001b[0m\u001b[1;33m,\u001b[0m \u001b[0mpQuadrado\u001b[0m\u001b[1;33m,\u001b[0m \u001b[0mxp\u001b[0m\u001b[1;33m,\u001b[0m \u001b[0my\u001b[0m\u001b[1;33m,\u001b[0m \u001b[0mN\u001b[0m\u001b[1;33m,\u001b[0m \u001b[0mimportance\u001b[0m\u001b[1;33m)\u001b[0m\u001b[1;33m\u001b[0m\u001b[1;33m\u001b[0m\u001b[0m\n\u001b[0m\u001b[0;32m     15\u001b[0m     \u001b[0mpsi1ipQ\u001b[0m \u001b[1;33m=\u001b[0m \u001b[0mPsi1IPpQ\u001b[0m\u001b[1;33m\u001b[0m\u001b[1;33m\u001b[0m\u001b[0m\n",
      "\u001b[1;32m<ipython-input-129-aeb91207015c>\u001b[0m in \u001b[0;36mmontecarloImportance\u001b[1;34m(psi, potencial, x, y, N, importance, contador, delta)\u001b[0m\n\u001b[0;32m      7\u001b[0m \u001b[1;33m\u001b[0m\u001b[0m\n\u001b[0;32m      8\u001b[0m \u001b[1;33m\u001b[0m\u001b[0m\n\u001b[1;32m----> 9\u001b[1;33m         \u001b[0mE\u001b[0m \u001b[1;33m=\u001b[0m \u001b[0menergia\u001b[0m\u001b[1;33m(\u001b[0m\u001b[0mPsiN\u001b[0m\u001b[1;33m,\u001b[0m \u001b[0mpotencial\u001b[0m\u001b[1;33m,\u001b[0m\u001b[0msegundaDerivada\u001b[0m\u001b[1;33m,\u001b[0m \u001b[0my\u001b[0m\u001b[1;33m,\u001b[0m \u001b[0mx\u001b[0m\u001b[1;33m,\u001b[0m \u001b[0mN\u001b[0m\u001b[1;33m)\u001b[0m\u001b[1;31m#calculo da energia inicial\u001b[0m\u001b[1;33m\u001b[0m\u001b[1;33m\u001b[0m\u001b[0m\n\u001b[0m\u001b[0;32m     10\u001b[0m \u001b[1;33m\u001b[0m\u001b[0m\n\u001b[0;32m     11\u001b[0m         \u001b[0mPsiNovo\u001b[0m \u001b[1;33m=\u001b[0m \u001b[0mPsiN\u001b[0m\u001b[1;33m\u001b[0m\u001b[1;33m\u001b[0m\u001b[0m\n",
      "\u001b[1;32m<ipython-input-126-9e0caffdae16>\u001b[0m in \u001b[0;36menergia\u001b[1;34m(psi, potencial, segundaDerivada, y, x, N)\u001b[0m\n\u001b[0;32m      4\u001b[0m \u001b[1;33m\u001b[0m\u001b[0m\n\u001b[0;32m      5\u001b[0m     \u001b[1;31m#Hamilton = dx*(-2*np.eye(len(y)) + np.eye(len(y),k=1) + np.eye(len(y), k= -1))\u001b[0m\u001b[1;33m\u001b[0m\u001b[1;33m\u001b[0m\u001b[1;33m\u001b[0m\u001b[0m\n\u001b[1;32m----> 6\u001b[1;33m     \u001b[0moperador\u001b[0m \u001b[1;33m=\u001b[0m \u001b[0msegundaDerivada\u001b[0m\u001b[1;33m(\u001b[0m\u001b[0mpsi\u001b[0m\u001b[1;33m,\u001b[0m \u001b[0mx\u001b[0m\u001b[1;33m)\u001b[0m\u001b[1;33m\u001b[0m\u001b[1;33m\u001b[0m\u001b[0m\n\u001b[0m\u001b[0;32m      7\u001b[0m     \u001b[1;32mreturn\u001b[0m \u001b[1;33m(\u001b[0m\u001b[0mnp\u001b[0m\u001b[1;33m.\u001b[0m\u001b[0mvdot\u001b[0m\u001b[1;33m(\u001b[0m\u001b[0mpsi\u001b[0m\u001b[1;33m,\u001b[0m \u001b[0moperador\u001b[0m\u001b[1;33m*\u001b[0m\u001b[0mpsi\u001b[0m\u001b[1;33m)\u001b[0m \u001b[1;33m+\u001b[0m \u001b[0mnp\u001b[0m\u001b[1;33m.\u001b[0m\u001b[0mvdot\u001b[0m\u001b[1;33m(\u001b[0m\u001b[0mpsi\u001b[0m\u001b[1;33m,\u001b[0m \u001b[0mpotencial\u001b[0m\u001b[1;33m*\u001b[0m\u001b[0mpsi\u001b[0m\u001b[1;33m)\u001b[0m\u001b[1;33m)\u001b[0m\u001b[1;33m/\u001b[0m\u001b[1;33m(\u001b[0m\u001b[0mnp\u001b[0m\u001b[1;33m.\u001b[0m\u001b[0mvdot\u001b[0m\u001b[1;33m(\u001b[0m\u001b[0mpsi\u001b[0m\u001b[1;33m,\u001b[0m\u001b[0mpsi\u001b[0m\u001b[1;33m)\u001b[0m\u001b[1;33m)\u001b[0m\u001b[1;33m\u001b[0m\u001b[1;33m\u001b[0m\u001b[0m\n",
      "\u001b[1;32m<ipython-input-125-4e8127b21466>\u001b[0m in \u001b[0;36msegundaDerivada\u001b[1;34m(psi, x)\u001b[0m\n\u001b[0;32m     10\u001b[0m \u001b[1;33m\u001b[0m\u001b[0m\n\u001b[0;32m     11\u001b[0m     \u001b[0mhamilton1\u001b[0m \u001b[1;33m=\u001b[0m \u001b[0mnp\u001b[0m\u001b[1;33m.\u001b[0m\u001b[0mappend\u001b[0m\u001b[1;33m(\u001b[0m\u001b[1;33m[\u001b[0m\u001b[0mfirst\u001b[0m\u001b[1;33m]\u001b[0m\u001b[1;33m,\u001b[0m \u001b[0mh\u001b[0m\u001b[1;33m)\u001b[0m\u001b[1;33m\u001b[0m\u001b[1;33m\u001b[0m\u001b[0m\n\u001b[1;32m---> 12\u001b[1;33m     \u001b[0mhamilton\u001b[0m \u001b[1;33m=\u001b[0m \u001b[0mnp\u001b[0m\u001b[1;33m.\u001b[0m\u001b[0mappend\u001b[0m\u001b[1;33m(\u001b[0m\u001b[0mhamilton1\u001b[0m\u001b[1;33m,\u001b[0m \u001b[1;33m[\u001b[0m\u001b[0mlast\u001b[0m\u001b[1;33m]\u001b[0m\u001b[1;33m)\u001b[0m\u001b[1;33m\u001b[0m\u001b[1;33m\u001b[0m\u001b[0m\n\u001b[0m\u001b[0;32m     13\u001b[0m \u001b[1;33m\u001b[0m\u001b[0m\n\u001b[0;32m     14\u001b[0m     \u001b[1;32mreturn\u001b[0m \u001b[0mnp\u001b[0m\u001b[1;33m.\u001b[0m\u001b[0marray\u001b[0m\u001b[1;33m(\u001b[0m\u001b[0mhamilton\u001b[0m\u001b[1;33m)\u001b[0m\u001b[1;33m*\u001b[0m\u001b[0mdx\u001b[0m\u001b[1;33m\u001b[0m\u001b[1;33m\u001b[0m\u001b[0m\n",
      "\u001b[1;32m<__array_function__ internals>\u001b[0m in \u001b[0;36mappend\u001b[1;34m(*args, **kwargs)\u001b[0m\n",
      "\u001b[1;32m~\\anaconda3\\lib\\site-packages\\numpy\\lib\\function_base.py\u001b[0m in \u001b[0;36mappend\u001b[1;34m(arr, values, axis)\u001b[0m\n\u001b[0;32m   4669\u001b[0m         \u001b[0mvalues\u001b[0m \u001b[1;33m=\u001b[0m \u001b[0mravel\u001b[0m\u001b[1;33m(\u001b[0m\u001b[0mvalues\u001b[0m\u001b[1;33m)\u001b[0m\u001b[1;33m\u001b[0m\u001b[1;33m\u001b[0m\u001b[0m\n\u001b[0;32m   4670\u001b[0m         \u001b[0maxis\u001b[0m \u001b[1;33m=\u001b[0m \u001b[0marr\u001b[0m\u001b[1;33m.\u001b[0m\u001b[0mndim\u001b[0m\u001b[1;33m-\u001b[0m\u001b[1;36m1\u001b[0m\u001b[1;33m\u001b[0m\u001b[1;33m\u001b[0m\u001b[0m\n\u001b[1;32m-> 4671\u001b[1;33m     \u001b[1;32mreturn\u001b[0m \u001b[0mconcatenate\u001b[0m\u001b[1;33m(\u001b[0m\u001b[1;33m(\u001b[0m\u001b[0marr\u001b[0m\u001b[1;33m,\u001b[0m \u001b[0mvalues\u001b[0m\u001b[1;33m)\u001b[0m\u001b[1;33m,\u001b[0m \u001b[0maxis\u001b[0m\u001b[1;33m=\u001b[0m\u001b[0maxis\u001b[0m\u001b[1;33m)\u001b[0m\u001b[1;33m\u001b[0m\u001b[1;33m\u001b[0m\u001b[0m\n\u001b[0m\u001b[0;32m   4672\u001b[0m \u001b[1;33m\u001b[0m\u001b[0m\n\u001b[0;32m   4673\u001b[0m \u001b[1;33m\u001b[0m\u001b[0m\n",
      "\u001b[1;32m<__array_function__ internals>\u001b[0m in \u001b[0;36mconcatenate\u001b[1;34m(*args, **kwargs)\u001b[0m\n",
      "\u001b[1;31mKeyboardInterrupt\u001b[0m: "
     ]
    }
   ],
   "source": [
    "# Monte Carlo variacional por Gram-Schimidt para o primeiro estado excitado\n",
    "psi1pQ = normalization(-xp)\n",
    "\n",
    "for i in tqdm(range(300)):\n",
    "    Psi1pQ = psi1pQ - (np.vdot(Psi0pQ,psi1pQ) / np.vdot(Psi0pQ,Psi0pQ))*Psi0pQ\n",
    "    Psi1pQ = montecarlo(Psi1pQ, pQuadrado, xp, y, N)\n",
    "    psi1pQ = Psi1pQ\n",
    "\n",
    "# Primeiro estado excita do por amostragem por importância\n",
    "psi1ipQ = normalization(-xp)\n",
    "\n",
    "for i in tqdm(range(300)):\n",
    "    Psi1IPpQ = psi1ipQ - (np.vdot(Psi0AIpQ,psi1ipQ) / np.vdot(Psi0AIpQ,Psi0AIpQ))*Psi0AIpQ\n",
    "    Psi1IPpQ = montecarloImportance(Psi1IPpQ, pQuadrado, xp, y, N, importance)\n",
    "    psi1ipQ = Psi1IPpQ"
   ]
  },
  {
   "cell_type": "code",
   "execution_count": null,
   "metadata": {},
   "outputs": [],
   "source": [
    "plt.figure(figsize = (10,4))\n",
    "\n",
    "\n",
    "plt.subplot(121)\n",
    "plt.plot(x, normalization(Psi0pQ))\n",
    "plt.plot(x, normalization(psi1pQ))\n",
    "plt.grid()\n",
    "plt.tight_layout()\n",
    "#plt.legend()\n",
    "plt.title('Autofunções')\n",
    "\n",
    "\n",
    "plt.subplot(122)\n",
    "plt.plot(x, normalization(Psi0AIpQ))\n",
    "plt.plot(x, normalization(psi1ipQ))\n",
    "plt.grid()\n",
    "plt.tight_layout()\n",
    "#plt.legend()\n",
    "plt.title('Autofunções por Amostragem')\n",
    "\n",
    "plt.show()"
   ]
  },
  {
   "cell_type": "markdown",
   "metadata": {},
   "source": [
    "## Poço Quadrado Duplo"
   ]
  },
  {
   "cell_type": "code",
   "execution_count": null,
   "metadata": {},
   "outputs": [],
   "source": [
    "#função teste\n",
    "psi0pD = np.ones(len(xp))\n",
    "\n",
    "EpD = []\n",
    "\n",
    "for i in tqdm(range(100)):\n",
    "    Psi0pD = montecarlo(psi0pD, pDouble, xp, y, N)\n",
    "    ef = energia(Psi0pD, pDouble, y, xp, N)\n",
    "    EpD.append(ef)\n",
    "\n",
    "#função teste para amostragem por importância\n",
    "psi0aipD = np.ones(len(xp))\n",
    "\n",
    "EimportancepD = []\n",
    "\n",
    "for i in tqdm(range(100)):\n",
    "    Psi0AIpD = montecarloImportance(psi0aipD, pDouble, xp, y, N, importance)\n",
    "    ef = energia(Psi0AIpD, pDouble, y, xp, N)\n",
    "    EimportancepD.append(ef)"
   ]
  },
  {
   "cell_type": "code",
   "execution_count": null,
   "metadata": {},
   "outputs": [],
   "source": [
    "#plot da energia\n",
    "plt.figure(figsize = (12,8))\n",
    "\n",
    "plt.subplot(221)\n",
    "plt.plot(np.arange(len(EpD)),EpD, 'r', label = 'Energia total')\n",
    "plt.xlim(0,100)\n",
    "plt.ylim(0,5)\n",
    "plt.grid()\n",
    "\n",
    "#plot da energia por amostragem por importância\n",
    "plt.subplot(222)\n",
    "plt.plot(np.arange(len(EimportancepD)), EimportancepD, 'b', label = 'Energia por Amostragem')\n",
    "plt.xlim(0,100)\n",
    "plt.ylim(0,5)\n",
    "plt.grid()\n",
    "\n",
    "#plot das duas energias\n",
    "plt.subplot(223)\n",
    "plt.plot(np.arange(len(EpD)),EpD, 'r', label = 'Energia total')\n",
    "plt.plot(np.arange(len(EimportancepD)), EimportancepD, 'b', label = 'Energia por Amostragem')\n",
    "plt.xlim(0,100)\n",
    "plt.ylim(0,5)\n",
    "plt.xlabel('Número de passos')\n",
    "plt.ylabel('E')\n",
    "plt.grid()\n",
    "plt.tight_layout()\n",
    "plt.legend()\n",
    "\n",
    "plt.show()"
   ]
  },
  {
   "cell_type": "code",
   "execution_count": null,
   "metadata": {},
   "outputs": [],
   "source": [
    "# monte carlo variacional\n",
    "psi1pD = normalization(-xp)\n",
    "\n",
    "for i in tqdm(range(500)):\n",
    "    Psi1pD = psi1pD - (np.vdot(psi0pD,psi1pD) / np.vdot(psi0pD,psi0pD))*psi0pD\n",
    "    Psi1pD = montecarlo(Psi1pD, pDouble, xp, y, N)\n",
    "    psi1pD = Psi1pD\n",
    "    \n",
    "# amostragem por importância\n",
    "psi1ipD = normalization(-xp)\n",
    "\n",
    "for i in tqdm(range(500)):\n",
    "    Psi1IPpD = psi1ipD - (np.vdot(psi0aipD,psi1ipD) / np.vdot(psi0aipD,psi0aipD))*psi0aipD\n",
    "    Psi1IPpD = montecarloImportance(Psi1IPpD, pDouble, xp, y, N, importance)\n",
    "    psi1ipD = Psi1IPpD"
   ]
  },
  {
   "cell_type": "code",
   "execution_count": null,
   "metadata": {},
   "outputs": [],
   "source": [
    "#plot das autofunções\n",
    "plt.figure(figsize = (12,6))\n",
    "\n",
    "plt.figure(figsize = (10,4))\n",
    "plt.subplot(121)\n",
    "plt.plot(x, normalization(psi0pD))\n",
    "plt.plot(x, normalization(psi1pD))\n",
    "plt.grid()\n",
    "plt.title('Autofunções')\n",
    "\n",
    "\n",
    "plt.subplot(122)\n",
    "plt.plot(x, normalization(psi0aipD))\n",
    "plt.plot(x, normalization(psi1ipD))\n",
    "plt.grid()\n",
    "plt.title('Autofunções por Amostragem')\n",
    "\n",
    "plt.show()"
   ]
  }
 ],
 "metadata": {
  "kernelspec": {
   "display_name": "Python 3",
   "language": "python",
   "name": "python3"
  },
  "language_info": {
   "codemirror_mode": {
    "name": "ipython",
    "version": 3
   },
   "file_extension": ".py",
   "mimetype": "text/x-python",
   "name": "python",
   "nbconvert_exporter": "python",
   "pygments_lexer": "ipython3",
   "version": "3.8.5"
  }
 },
 "nbformat": 4,
 "nbformat_minor": 4
}
